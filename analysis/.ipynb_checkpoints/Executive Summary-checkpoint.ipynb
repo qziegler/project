{
 "cells": [
  {
   "cell_type": "markdown",
   "metadata": {},
   "source": [
    "# Executive Summary\n",
    "## Crime and Race in Washington, D.C."
   ]
  },
  {
   "cell_type": "markdown",
   "metadata": {},
   "source": [
    "### I. Introduction\n",
    "Using publicly available data from the Washington, D.C. Metropolitan Police Department and U.S. Census Bureau, I explore the relationship between crime rates in the district and neighborhood minority composition. I am interested in identifying any disparities in crime rates between majority minority neighborhoods (Census tracts for my analysis) and what neighborhood-level factors may be contributing to these disparities.\n",
    "\n",
    "### II. Data\n",
    "Data on reported crime incidents in Washington, D.C. for 2017 was obtained from the Metropolitan Police Departmet's website. For the purposes of my analysis, I am primarily interested in the following information provided by this dataset: the type of offense committed, the method by which the offense was committed, and the location the offense was committed. In 2017, there were 33,070 total crimes reported in the district.\n",
    "\n",
    "Data on tract-level characteristics, including median household income, the unemployment rate, and the vacancy rate, was obtained from the U.S. Census Bureau's 2016 American Community Survey (5-Year Estimates). Tract minority share was calculated as the share of the tract's population that does not identify as non-Hispanic white alone. Thus, the minority share includes individuals who reported their race as multi-race, even if one of those races was white, and individuals who reported their race as \"other\" The vacancy rate was calculated as the number of vacant units within a tract divided by the total number of units within that tract. Median household income data was not available for two tracts. Unemployment rate and vacancy rate data was available for all tracts.\n",
    "\n",
    "### III. Analysis\n",
    "The Metropolitan Police Department reports crime under nine separate categories: arson, assault with a dangerous weapon, burglary, homicide, robbery, sex abuse, theft from a vehicle, general theft/other, and vehicle theft. The chart below shows the levels of crime reported by offense type. Red bars indicate violent crime, while blue bars represent property crime. I have categorized violent crime as arson, assault with a dangerous weapon, homicide, robbery, and sex abouse. I have categorized property crime as burglary, theft from a vehicle, general theft/other, and vehicle theft. From the chart, we can see that general theft/other was the most common offense in the district in 2017 with over 14,000 reports. Robbery was the most common violent offense in 2017 with 2,160 incidents reported, though assault with a dangerous weapon was a close second, with 1,842 incidents reported."
   ]
  },
  {
   "cell_type": "markdown",
   "metadata": {},
   "source": [
    "![alt_text](https://github.com/qziegler/project/raw/master/analysis/images/offensetype_barchart.png)"
   ]
  },
  {
   "cell_type": "markdown",
   "metadata": {},
   "source": [
    "Overall, very few reported crimes (7%) committed in the district involved firearms or knives; 93% of all reported crimes were committed by some other method. However, the story for violent crimes is quite different. Guns were involved in 37% of robberies and assaults with a dangerous weapon and 75% of homicides. In addition, knives were involved in 35% of assaults with a dangerous weapon."
   ]
  },
  {
   "cell_type": "markdown",
   "metadata": {},
   "source": [
    "![alt_text](https://github.com/qziegler/project/raw/master/analysis/images/offensetype_method_heatmap.png)"
   ]
  },
  {
   "cell_type": "markdown",
   "metadata": {},
   "source": [
    "Crimes also occured in primarily minority areas. From the boxplot below, we see that the median tract minority share in which crimes occured was approximately 60% or greater for all offense types. By comparison, the median tract minority share in which assaults with a dangerous weapon, homicides, and robberies occured was greater than 80%. Furthermore, the median tract minority share in which crimes involving guns and knives occured was higher than the median tract minority share in which crimes were committed by some other method for all offense types. These results suggest that not only do crimes occur in primarily minority areas, but that the most dangerous and violent types of crime occur in heavily minority neighborhoods."
   ]
  },
  {
   "cell_type": "markdown",
   "metadata": {},
   "source": [
    "![alt_text](https://github.com/qziegler/project/raw/master/analysis/images/minoritydist_boxplot.png)"
   ]
  },
  {
   "cell_type": "markdown",
   "metadata": {},
   "source": [
    "For all subsequent analyses, I excluded Census tract 62.02, which represents the National Mall and surrounding area. Even though this area does not see significant amount of nominal or violent crime, its low tract population (65) in combination with the fact that it is generally a high traffic area likely explain why its imputed crime rates are extreme outliers. Looking at all other tracts, I look at the relationship between violent and property crime, respectively, and tract minority share (sharemin), tract median household income (hh_med_income), the unemployment rate (unemp_rate), and the vacancy rate (vacancy_rate)."
   ]
  },
  {
   "cell_type": "markdown",
   "metadata": {},
   "source": [
    "To further explore the relationship between property crime and race, I estimated a series of logitic regression models to identify disparities in instances of property crime in majority minority relative to non-majority minority Census tracts. For my analysis, I define majority minority tracts as tracts with a minority population share greater than 50%. I also create categorical controls for tract median household income, unemployment rate, and vacancy rate. For median household income, I control for tracts with a median household income less than 40,000 USD and tracts with a median household income greater than or equal to 40,000 USD and less than 100,000 USD; tracts with a median household income greater or equal to 100,000 USD serve as the base group. For the unemployment rate, I control for tracts with an unemployment rate above the 2016 U.S. National Average (4.6%); tracts with an unemployment rate less than or equal to the national average serve as the base group. For vacancy rate, I control for tracts with vacancy rate greater than 6% and less than or equal to 14% and for tracts with a vacancy rate greater than 14%; tracts with a vacancy rate less than 6% serve as the base group."
   ]
  },
  {
   "cell_type": "markdown",
   "metadata": {},
   "source": [
    "In the table below, Model 0 serves as the baseline model, controlling only for tract minority composition. Without controlling for any other factors, the odds ratio from Model 0 indicates majority minority tracts are 0.37 times as likely to experience property crime as non-majority minority tracts. This result was found to be statistically significant at a 5% significance level. Adding controls for tract median household income, tract unemployment rate, and/or tract vacancy rate increases this odds ratio to between 0.58-0.60, but all results remain statistically significant at a 5% signifcance level. From the AIC scores reported below, we see that Model 4, which drops the tract unemployment rate control, provides the best fit for this data, though only performs marginally better than Model 3. Given the results, tract median household income and vacancy rate appear to be strong predictors of property crime, however, these models likely suffer from significant omitted variable bias. Given that disparities in property crime still persist after controlling for these variables, we must consider what additional neighborhood-level factors may be driving these results."
   ]
  },
  {
   "cell_type": "markdown",
   "metadata": {},
   "source": [
    "![alt_text](https://github.com/qziegler/project/raw/master/analysis/images/logit_pcresults.png)"
   ]
  },
  {
   "cell_type": "markdown",
   "metadata": {},
   "source": [
    "Below, I provide a visual representation of the reported instances of property crime in the district for 2017. From the map below, property crime appears generally equally distributed across the city, with only low population density areas representing areas with few instances of property crime. In addition, although predominantly non-Hispanic white tracts located in the Northwest quadrant of the city appear to be experience less property crime relative to the heavily minority areas in the Southeast of the city, the most dense areas of property crime appear to be concentrated in the city center, which is generally low minority. Consequently, the downtown corridor may be driving the logistic regression results presented above. Further exploration is needed to ascertain whether property crime rates do in fact differ between majority minority and non-minority tracts and if so, what additional factors may be driving these results."
   ]
  },
  {
   "cell_type": "markdown",
   "metadata": {},
   "source": [
    "![alt_text](https://github.com/qziegler/project/raw/master/analysis/images/pccrimepts_map.png)"
   ]
  },
  {
   "cell_type": "markdown",
   "metadata": {},
   "source": [
    "The results for violent crime, however, show a more interesting and alarming trend. In the table below, Model 0 again serves as the baseline model, controlling only for tract minority composition. Without controlling for any other factors, the odds ratio from Model 0 indicates majority minority tracts are 2.73 times as likely to experience violent crime as non-majority minority tracts. This result was found to be statistically significant at a 5% significance level. Adding controls for tract median household income, tract unemployment rate, and/or tract vacancy rate lowers this odds ratio to between 1.67-1.71, but all results remain statistically significant at a 5% signifcance level. From the AIC scores reported below, we see that Model 4, which drops the tract unemployment rate control, provides the best fit for this data, though only performs marginally better than Model 3. Given the results, tract median household income and vacancy rate appear to be strong predictors of violent crime, however, these models again likely suffer from significant omitted variable bias. Given that disparities in violent crime still persist after controlling for these variables, we must consider what additional neighborhood-level factors may be driving these factors, such as neighborhood police presence or education level."
   ]
  },
  {
   "cell_type": "markdown",
   "metadata": {},
   "source": [
    "![alt_text](https://github.com/qziegler/project/raw/master/analysis/images/logit_vcresults.png)"
   ]
  },
  {
   "cell_type": "markdown",
   "metadata": {},
   "source": [
    "Below, I provide a visual representation of the reported instances of violent crime in the district for 2017, which appears in line with the regression results presented above. From the map below, we can see that the most pronounced clusters of violent crime generally appear in the highest minority areas of the city (tracts with minority share of 98-100%). Furthemore, outside of the downtown corridor, violent crimes are heavily concentrated in the Northeast and Southeast quadrants of the city, where tract minority share is generally 59% or greater."
   ]
  },
  {
   "cell_type": "markdown",
   "metadata": {},
   "source": [
    "![alt_text](https://github.com/qziegler/project/raw/master/analysis/images/vccrimepts_map.png)"
   ]
  },
  {
   "cell_type": "markdown",
   "metadata": {},
   "source": [
    "### IV. Discussion\n",
    "In order to shape policy that more effectively and equitably addresses crime in our nation's capital, we must first understand what factors impact violent and property crime rates across the city. While I identify tract median household income and vacancy rates as key predictors of violent and property crime, more work must be done to understand disparities in the reported instances of these crimes. Moving forward, we must explore how additional factors, such as neighborhood police presence and education level, impact these disparities. It is unacceptable that in the modern day, minority neighborhoods in the district are almost three times as likely to experience the most dangerous and violent types of crime relative to their predominantly white counterparts. I call upon the leaders of Washington, D.C. to continue to seek answers to these questions so that public safety can be assured to all of the city's residents."
   ]
  }
 ],
 "metadata": {
  "kernelspec": {
   "display_name": "Python 2",
   "language": "python",
   "name": "python2"
  },
  "language_info": {
   "codemirror_mode": {
    "name": "ipython",
    "version": 2
   },
   "file_extension": ".py",
   "mimetype": "text/x-python",
   "name": "python",
   "nbconvert_exporter": "python",
   "pygments_lexer": "ipython2",
   "version": "2.7.14"
  }
 },
 "nbformat": 4,
 "nbformat_minor": 2
}
